{
 "cells": [
  {
   "cell_type": "markdown",
   "id": "aceb8d00",
   "metadata": {},
   "source": [
    "# Modelo de Classificação KNN para Iris Dataset"
   ]
  },
  {
   "cell_type": "markdown",
   "id": "242c5ccc",
   "metadata": {},
   "source": [
    "Importando as bibliotecas necessárias:"
   ]
  },
  {
   "cell_type": "code",
   "execution_count": 21,
   "id": "ee2adb94",
   "metadata": {},
   "outputs": [],
   "source": [
    "import pandas as pd\n",
    "import matplotlib.pyplot as plt\n",
    "from sklearn.model_selection import train_test_split\n",
    "from sklearn.neighbors import KNeighborsClassifier\n",
    "import numpy as np\n",
    "from distinctipy import distinctipy\n",
    "from sklearn.metrics import confusion_matrix\n",
    "from sklearn.model_selection import cross_val_score\n",
    "\n",
    "import warnings\n",
    "warnings.filterwarnings('ignore')"
   ]
  },
  {
   "cell_type": "markdown",
   "id": "f2e07e0d",
   "metadata": {},
   "source": [
    "Fazendo a Leitura dos dados:"
   ]
  },
  {
   "cell_type": "code",
   "execution_count": 3,
   "id": "cc84e115",
   "metadata": {},
   "outputs": [
    {
     "data": {
      "text/html": [
       "<div>\n",
       "<style scoped>\n",
       "    .dataframe tbody tr th:only-of-type {\n",
       "        vertical-align: middle;\n",
       "    }\n",
       "\n",
       "    .dataframe tbody tr th {\n",
       "        vertical-align: top;\n",
       "    }\n",
       "\n",
       "    .dataframe thead th {\n",
       "        text-align: right;\n",
       "    }\n",
       "</style>\n",
       "<table border=\"1\" class=\"dataframe\">\n",
       "  <thead>\n",
       "    <tr style=\"text-align: right;\">\n",
       "      <th></th>\n",
       "      <th>Sépala Comprimento(cm)</th>\n",
       "      <th>Sépala Largura(cm)</th>\n",
       "      <th>Pétala Comprimento(cm)</th>\n",
       "      <th>Pétala Largura(cm)</th>\n",
       "      <th>Classificação</th>\n",
       "    </tr>\n",
       "  </thead>\n",
       "  <tbody>\n",
       "    <tr>\n",
       "      <th>0</th>\n",
       "      <td>5.1</td>\n",
       "      <td>3.5</td>\n",
       "      <td>1.4</td>\n",
       "      <td>0.2</td>\n",
       "      <td>Iris-setosa</td>\n",
       "    </tr>\n",
       "    <tr>\n",
       "      <th>1</th>\n",
       "      <td>4.9</td>\n",
       "      <td>3.0</td>\n",
       "      <td>1.4</td>\n",
       "      <td>0.2</td>\n",
       "      <td>Iris-setosa</td>\n",
       "    </tr>\n",
       "    <tr>\n",
       "      <th>2</th>\n",
       "      <td>4.7</td>\n",
       "      <td>3.2</td>\n",
       "      <td>1.3</td>\n",
       "      <td>0.2</td>\n",
       "      <td>Iris-setosa</td>\n",
       "    </tr>\n",
       "    <tr>\n",
       "      <th>3</th>\n",
       "      <td>4.6</td>\n",
       "      <td>3.1</td>\n",
       "      <td>1.5</td>\n",
       "      <td>0.2</td>\n",
       "      <td>Iris-setosa</td>\n",
       "    </tr>\n",
       "    <tr>\n",
       "      <th>4</th>\n",
       "      <td>5.0</td>\n",
       "      <td>3.6</td>\n",
       "      <td>1.4</td>\n",
       "      <td>0.2</td>\n",
       "      <td>Iris-setosa</td>\n",
       "    </tr>\n",
       "  </tbody>\n",
       "</table>\n",
       "</div>"
      ],
      "text/plain": [
       "   Sépala Comprimento(cm)  Sépala Largura(cm)  Pétala Comprimento(cm)  \\\n",
       "0                     5.1                 3.5                     1.4   \n",
       "1                     4.9                 3.0                     1.4   \n",
       "2                     4.7                 3.2                     1.3   \n",
       "3                     4.6                 3.1                     1.5   \n",
       "4                     5.0                 3.6                     1.4   \n",
       "\n",
       "   Pétala Largura(cm) Classificação  \n",
       "0                 0.2   Iris-setosa  \n",
       "1                 0.2   Iris-setosa  \n",
       "2                 0.2   Iris-setosa  \n",
       "3                 0.2   Iris-setosa  \n",
       "4                 0.2   Iris-setosa  "
      ]
     },
     "execution_count": 3,
     "metadata": {},
     "output_type": "execute_result"
    }
   ],
   "source": [
    "df_iris = pd.read_csv('iris.data', names=['Sépala Comprimento(cm)', 'Sépala Largura(cm)','Pétala Comprimento(cm)', 'Pétala Largura(cm)', 'Classificação'])\n",
    "df_iris.head()"
   ]
  },
  {
   "cell_type": "markdown",
   "id": "f57ed412",
   "metadata": {},
   "source": [
    "Indexando as éspecies de Iris para a criação do modelo modelo:"
   ]
  },
  {
   "cell_type": "code",
   "execution_count": 4,
   "id": "8f82f2db",
   "metadata": {},
   "outputs": [],
   "source": [
    "indices = {'Iris-setosa' : 0,'Iris-versicolor' : 1, 'Iris-virginica' : 2} # enumerando os tipos de iris\n",
    "\n",
    "column_idx = df_iris['Classificação'].map(indices) #criando uma coluna com os valores\n",
    "\n",
    "case_df_indx =  df_iris.assign(idx_class = column_idx) #criando um novo dataframe com a nova coluna "
   ]
  },
  {
   "cell_type": "markdown",
   "id": "fe67cdfb",
   "metadata": {},
   "source": [
    "### Teste para descobrir o melhor valor para K"
   ]
  },
  {
   "cell_type": "markdown",
   "id": "91ae8dee",
   "metadata": {},
   "source": [
    "Para a criação do modelo foi utilizado 80% dos dados para treino e 20% para teste. As espécies foram distribuídas de forma igualitária quantitativamente na divisão dos dados."
   ]
  },
  {
   "cell_type": "code",
   "execution_count": 6,
   "id": "334cb937",
   "metadata": {},
   "outputs": [],
   "source": [
    "train, test = train_test_split(case_df_indx, train_size=0.8, stratify=(case_df_indx.idx_class)) # 80% para treino / 20% para teste, proporcionalmente para cada espécie\n",
    "\n",
    "X_train = np.array(train.iloc[:,0:4])\n",
    "X_test = np.array(test.iloc[:,0:4])\n",
    "y_train = np.array(train['idx_class'])\n",
    "y_test = np.array(test['idx_class'])"
   ]
  },
  {
   "cell_type": "markdown",
   "id": "ddf14e7f",
   "metadata": {},
   "source": [
    "Foi utilizado a validação cruzada, obtendo-se a acurácia, dividindo os dados em 30 partes.\n",
    "Os modelos foram criados variando o número K entre 1 e 30."
   ]
  },
  {
   "cell_type": "code",
   "execution_count": 12,
   "id": "333af708",
   "metadata": {},
   "outputs": [],
   "source": [
    "dic_k = {}\n",
    "for k in range(1,31): #Testando até K 30\n",
    "    knn_test = KNeighborsClassifier(n_neighbors = k).fit(X_train, y_train) # Criando o modelo KNN\n",
    "    acuracias = cross_val_score(knn_test,\n",
    "                                case_df_indx.iloc[:,0:4], case_df_indx['idx_class'], cv=30) # Calculando a acurácia para as 30 partes dos dados\n",
    "    dic_k['K'+str(k)] = acuracias\n",
    "df_acur = pd.DataFrame(dic_k) "
   ]
  },
  {
   "cell_type": "markdown",
   "id": "51eefa12",
   "metadata": {},
   "source": [
    "No histograma abaixo é possível notar que na maior parte das previsões do modelo , K sendo 19, teve sua acurácia mais próxima ou igual a 1. Dessa maneira, se sobressaindo, então para o modelo irei utilizar K  = 19 para o modelo."
   ]
  },
  {
   "cell_type": "code",
   "execution_count": 11,
   "id": "4b17394d",
   "metadata": {},
   "outputs": [
    {
     "data": {
      "image/png": "[encoded data removed]",
      "text/plain": [
       "<Figure size 720x576 with 1 Axes>"
      ]
     },
     "metadata": {
      "needs_background": "light"
     },
     "output_type": "display_data"
    }
   ],
   "source": [
    "#Plotando histograma do resultado teste\n",
    "colors = distinctipy.get_colors(30)\n",
    "plt.figure(figsize=(10,8))\n",
    "plt.hist(df_acur, 5, density=False, histtype='bar',label=df_acur.columns, color=colors)\n",
    "plt.ylabel('Frequência')\n",
    "plt.xlabel('Acurácia')\n",
    "plt.legend(bbox_to_anchor=(1.05, 1))\n",
    "plt.savefig('teste.png')\n",
    "plt.show()"
   ]
  },
  {
   "cell_type": "markdown",
   "id": "c217e3ba",
   "metadata": {},
   "source": [
    "Treinando o modelo com o K escolhido:"
   ]
  },
  {
   "cell_type": "code",
   "execution_count": 13,
   "id": "ebde346f",
   "metadata": {},
   "outputs": [],
   "source": [
    "knn = KNeighborsClassifier(n_neighbors = 19).fit(X_train, y_train)  # Criando um modelo com o valor de K escolhido"
   ]
  },
  {
   "cell_type": "markdown",
   "id": "21711e36",
   "metadata": {},
   "source": [
    "Obtendo a acurácia para os dados teste:"
   ]
  },
  {
   "cell_type": "code",
   "execution_count": 15,
   "id": "22e1d878",
   "metadata": {
    "scrolled": true
   },
   "outputs": [
    {
     "name": "stdout",
     "output_type": "stream",
     "text": [
      "Acurácia para os dados teste:  1.0\n"
     ]
    }
   ],
   "source": [
    "accuracy_knn = knn.score(X_test, y_test)\n",
    "print(\"Acurácia para os dados teste: \", accuracy_knn)"
   ]
  },
  {
   "cell_type": "markdown",
   "id": "51b7abb6",
   "metadata": {},
   "source": [
    "#### Matriz de confusão"
   ]
  },
  {
   "cell_type": "markdown",
   "id": "c9116eec",
   "metadata": {},
   "source": [
    "Na matriz de confusão é possível observar que o modelo conseguiu acertar todos os dados separados anteriormente para teste."
   ]
  },
  {
   "cell_type": "code",
   "execution_count": 17,
   "id": "8bf9b7d6",
   "metadata": {},
   "outputs": [
    {
     "data": {
      "text/html": [
       "<div>\n",
       "<style scoped>\n",
       "    .dataframe tbody tr th:only-of-type {\n",
       "        vertical-align: middle;\n",
       "    }\n",
       "\n",
       "    .dataframe tbody tr th {\n",
       "        vertical-align: top;\n",
       "    }\n",
       "\n",
       "    .dataframe thead th {\n",
       "        text-align: right;\n",
       "    }\n",
       "</style>\n",
       "<table border=\"1\" class=\"dataframe\">\n",
       "  <thead>\n",
       "    <tr style=\"text-align: right;\">\n",
       "      <th></th>\n",
       "      <th>Iris-setosa</th>\n",
       "      <th>Iris-versicolor</th>\n",
       "      <th>Iris-virginica</th>\n",
       "    </tr>\n",
       "  </thead>\n",
       "  <tbody>\n",
       "    <tr>\n",
       "      <th>Iris-setosa</th>\n",
       "      <td>10</td>\n",
       "      <td>0</td>\n",
       "      <td>0</td>\n",
       "    </tr>\n",
       "    <tr>\n",
       "      <th>Iris-versicolor</th>\n",
       "      <td>0</td>\n",
       "      <td>10</td>\n",
       "      <td>0</td>\n",
       "    </tr>\n",
       "    <tr>\n",
       "      <th>Iris-virginica</th>\n",
       "      <td>0</td>\n",
       "      <td>0</td>\n",
       "      <td>10</td>\n",
       "    </tr>\n",
       "  </tbody>\n",
       "</table>\n",
       "</div>"
      ],
      "text/plain": [
       "                 Iris-setosa  Iris-versicolor  Iris-virginica\n",
       "Iris-setosa               10                0               0\n",
       "Iris-versicolor            0               10               0\n",
       "Iris-virginica             0                0              10"
      ]
     },
     "execution_count": 17,
     "metadata": {},
     "output_type": "execute_result"
    }
   ],
   "source": [
    "knn_predic = knn.predict(X_test) # Fazendo a previsão para os dados teste\n",
    "cm_knn = confusion_matrix(y_test, knn_predic) # Criando a matriz de confusão\n",
    "df_conf_mat = pd.DataFrame(cm_knn, columns=indices.keys() , index=indices.keys())\n",
    "df_conf_mat"
   ]
  },
  {
   "cell_type": "markdown",
   "id": "84d4e418",
   "metadata": {},
   "source": [
    "#### Acurácia por espécie"
   ]
  },
  {
   "cell_type": "markdown",
   "id": "7c55c585",
   "metadata": {},
   "source": [
    "Foi também calculada a acurácia do modelo para todos os dados, mas separado por espécie. A Iris setosa, como já haviamos percebido nos gráficos da análise exploratória, se difere mais das demais nas características aqui observadas tendo um desempenho bem melhor. Já a Iris versicolor e virginica tendo algumas semelhanças nos dados das espécies coletadas, mas apesar disso, continuam com uma acurácia alta. Desta forma o modelo demonstra eficácia no que se propõe."
   ]
  },
  {
   "cell_type": "code",
   "execution_count": 23,
   "id": "3a3c1afe",
   "metadata": {},
   "outputs": [
    {
     "name": "stdout",
     "output_type": "stream",
     "text": [
      "Acurácia para Iris-setosa:  1.0\n",
      "Acurácia para Iris-versicolor:  0.96\n",
      "Acurácia para Iris-virginica:  0.98\n"
     ]
    }
   ],
   "source": [
    "spc_all = ['Iris-setosa', 'Iris-versicolor', 'Iris-virginica']\n",
    "\n",
    "for spc in spc_all:\n",
    "    df_spc = case_df_indx[case_df_indx['Classificação'] == spc]\n",
    "    X_spc = (df_spc.iloc[:,0:4])\n",
    "    Y_spc = np.array(df_spc['idx_class'])\n",
    "    accuracy_spc = knn.score(X_spc , Y_spc )\n",
    "    print(\"Acurácia para %s: \" %spc, accuracy_spc)"
   ]
  }
 ],
 "metadata": {
  "kernelspec": {
   "display_name": "Python 3 (ipykernel)",
   "language": "python",
   "name": "python3"
  },
  "language_info": {
   "codemirror_mode": {
    "name": "ipython",
    "version": 3
   },
   "file_extension": ".py",
   "mimetype": "text/x-python",
   "name": "python",
   "nbconvert_exporter": "python",
   "pygments_lexer": "ipython3",
   "version": "3.9.13"
  }
 },
 "nbformat": 4,
 "nbformat_minor": 5
}
